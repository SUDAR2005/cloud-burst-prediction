{
  "nbformat": 4,
  "nbformat_minor": 0,
  "metadata": {
    "colab": {
      "provenance": [],
      "authorship_tag": "ABX9TyMDEQmll9Z7zerndWsDax5n",
      "include_colab_link": true
    },
    "kernelspec": {
      "name": "python3",
      "display_name": "Python 3"
    },
    "language_info": {
      "name": "python"
    },
    "accelerator": "TPU"
  },
  "cells": [
    {
      "cell_type": "markdown",
      "metadata": {
        "id": "view-in-github",
        "colab_type": "text"
      },
      "source": [
        "<a href=\"https://colab.research.google.com/github/SUDAR2005/cloud-burst-prediction/blob/main/cloud_burst_prediction.ipynb\" target=\"_parent\"><img src=\"https://colab.research.google.com/assets/colab-badge.svg\" alt=\"Open In Colab\"/></a>"
      ]
    },
    {
      "cell_type": "code",
      "execution_count": null,
      "metadata": {
        "colab": {
          "base_uri": "https://localhost:8080/"
        },
        "id": "CjZ_z1inG-Wk",
        "outputId": "9391431a-a3e7-479c-a082-fa2f5f25448c"
      },
      "outputs": [
        {
          "output_type": "stream",
          "name": "stdout",
          "text": [
            "Drive already mounted at /content/drive; to attempt to forcibly remount, call drive.mount(\"/content/drive\", force_remount=True).\n"
          ]
        }
      ],
      "source": [
        "from google.colab import drive\n",
        "drive.mount('/content/drive')"
      ]
    },
    {
      "cell_type": "code",
      "source": [
        "import joblib\n",
        "import pandas as pd\n",
        "import numpy as np\n",
        "from sklearn.linear_model import LogisticRegression\n",
        "from sklearn.tree import DecisionTreeClassifier\n",
        "from sklearn.ensemble import RandomForestClassifier\n",
        "from sklearn.model_selection import train_test_split\n",
        "from sklearn.impute import SimpleImputer"
      ],
      "metadata": {
        "id": "IHdYQCXnIWUp"
      },
      "execution_count": null,
      "outputs": []
    },
    {
      "cell_type": "code",
      "source": [
        "data = pd.read_csv('./dataset/cloud_burst_dataset.csv')\n",
        "target_column = 'CloudBurst Today'\n",
        "data[target_column] = data[target_column].replace(['0'],'No')\n",
        "features = ['MaximumTemperature','WindSpeed9am',\n",
        "            'Humidity9am', 'Pressure9am']"
      ],
      "metadata": {
        "id": "ZwK9pH_F123r"
      },
      "execution_count": null,
      "outputs": []
    },
    {
      "cell_type": "markdown",
      "source": [
        "Load and preprocess data"
      ],
      "metadata": {
        "id": "JZANCTjtI6CP"
      }
    },
    {
      "cell_type": "code",
      "source": [
        "X = data[features]\n",
        "y = data[target_column]\n",
        "'''imputer = SimpleImputer(strategy='mean')\n",
        "X = pd.DataFrame(imputer.fit_transform(X), columns=features)\n",
        "\n",
        "X = np.log1p(X)'''"
      ],
      "metadata": {
        "colab": {
          "base_uri": "https://localhost:8080/",
          "height": 36
        },
        "id": "eR_LmcUvIusA",
        "outputId": "b987c73a-058c-49e1-fa4f-236b6fb4a205"
      },
      "execution_count": null,
      "outputs": [
        {
          "output_type": "execute_result",
          "data": {
            "text/plain": [
              "\"imputer = SimpleImputer(strategy='mean')\\nX = pd.DataFrame(imputer.fit_transform(X), columns=features)\\n\\nX = np.log1p(X)\""
            ],
            "application/vnd.google.colaboratory.intrinsic+json": {
              "type": "string"
            }
          },
          "metadata": {},
          "execution_count": 14
        }
      ]
    },
    {
      "cell_type": "markdown",
      "source": [
        "Splitting and Training the  model"
      ],
      "metadata": {
        "id": "DLFjs3UoJCMJ"
      }
    },
    {
      "cell_type": "code",
      "source": [
        "X_train, X_test, y_train, y_test = train_test_split(data[features], data[target_column], test_size=0.55, random_state=50)\n",
        "model = RandomForestClassifier()\n",
        "model.fit(X_train, y_train)\n",
        "y_pred = model.predict(X_test)\n",
        "accuracy = model.score(X_test, y_test)\n",
        "print('Accuracy:', accuracy)"
      ],
      "metadata": {
        "colab": {
          "base_uri": "https://localhost:8080/"
        },
        "id": "q-yAhlg7k_ZI",
        "outputId": "e2c26b9c-8053-4ced-aaf3-86157d394ceb"
      },
      "execution_count": null,
      "outputs": [
        {
          "output_type": "stream",
          "name": "stdout",
          "text": [
            "Accuracy: 0.7912453283001888\n"
          ]
        }
      ]
    },
    {
      "cell_type": "code",
      "source": [
        "'''!pip install shap\n",
        "import shap'''"
      ],
      "metadata": {
        "id": "KINrUQcY4_iz"
      },
      "execution_count": null,
      "outputs": []
    },
    {
      "cell_type": "markdown",
      "source": [
        "Save the model"
      ],
      "metadata": {
        "id": "bsnfcQLqMT92"
      }
    },
    {
      "cell_type": "code",
      "source": [
        "'''explainer = shap.Explainer(model)\n",
        "shap_values = explainer.shap_values(X_test)\n",
        "shap.summary_plot(shap_values, X_test, feature_names=X_test.columns)'''"
      ],
      "metadata": {
        "id": "gtNbeQqnAfO8"
      },
      "execution_count": null,
      "outputs": []
    },
    {
      "cell_type": "code",
      "source": [
        "joblib.dump(model, '/content/drive/MyDrive/Coud_Burst_Dataset/random_forest_model.joblib')"
      ],
      "metadata": {
        "id": "SQxU6d32CX0o",
        "colab": {
          "base_uri": "https://localhost:8080/"
        },
        "outputId": "3615acbf-cdf5-4fdc-967d-18049a713e55"
      },
      "execution_count": null,
      "outputs": [
        {
          "output_type": "execute_result",
          "data": {
            "text/plain": [
              "['/content/drive/MyDrive/Coud_Burst_Dataset/random_forest_model.joblib']"
            ]
          },
          "metadata": {},
          "execution_count": 16
        }
      ]
    }
  ]
}